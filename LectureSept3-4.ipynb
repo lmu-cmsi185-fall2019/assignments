{
 "cells": [
  {
   "cell_type": "markdown",
   "metadata": {},
   "source": [
    "***\n",
    "## Statements and expressions\n",
    "\n",
    "**expression:** combination of values, variables, and operators, expressions are evaluated \n",
    "\n",
    "**statement:** executable unit of code, statements are executed\n",
    "\n",
    "So far we've seen print, assignment, and import statements. More to come!"
   ]
  },
  {
   "cell_type": "code",
   "execution_count": null,
   "metadata": {},
   "outputs": [],
   "source": [
    "# Example statements\n",
    "width = 18"
   ]
  },
  {
   "cell_type": "code",
   "execution_count": null,
   "metadata": {},
   "outputs": [],
   "source": [
    "height = 12.0"
   ]
  },
  {
   "cell_type": "code",
   "execution_count": null,
   "metadata": {},
   "outputs": [],
   "source": [
    "delimiter = '.'"
   ]
  },
  {
   "cell_type": "code",
   "execution_count": null,
   "metadata": {},
   "outputs": [],
   "source": [
    "import datetime"
   ]
  },
  {
   "cell_type": "code",
   "execution_count": null,
   "metadata": {},
   "outputs": [],
   "source": [
    "print(\"Today is \"+ str(datetime.datetime.today()))"
   ]
  },
  {
   "cell_type": "code",
   "execution_count": null,
   "metadata": {},
   "outputs": [],
   "source": [
    "# Example expressions\n",
    "width/2"
   ]
  },
  {
   "cell_type": "code",
   "execution_count": null,
   "metadata": {},
   "outputs": [],
   "source": [
    "height/2.0"
   ]
  },
  {
   "cell_type": "code",
   "execution_count": null,
   "metadata": {},
   "outputs": [],
   "source": [
    "type(datetime.datetime.today())"
   ]
  },
  {
   "cell_type": "code",
   "execution_count": null,
   "metadata": {},
   "outputs": [],
   "source": [
    "delimiter * 3"
   ]
  },
  {
   "cell_type": "markdown",
   "metadata": {},
   "source": [
    "**Nested Expressions**\n",
    "\n",
    "See [Composing Programs 1.2.5](http://composingprograms.com/pages/12-elements-of-programming.html#evaluating-nested-expressions)"
   ]
  },
  {
   "cell_type": "code",
   "execution_count": null,
   "metadata": {},
   "outputs": [],
   "source": [
    "from operator import add, sub, mul\n",
    "\n",
    "sub(pow(2, add(2, 10)), pow(2, 4))"
   ]
  },
  {
   "cell_type": "code",
   "execution_count": null,
   "metadata": {},
   "outputs": [],
   "source": [
    "add(5*7,8+6)"
   ]
  },
  {
   "cell_type": "markdown",
   "metadata": {},
   "source": [
    "***\n",
    "## Errors\n",
    "\n",
    "See *Think Python* [Apendix A](http://greenteapress.com/thinkpython2/html/thinkpython2021.html)\n",
    "\n",
    "**syntax:** the interpreter has a problem with the code when it is translating it into byte code \n",
    "\n",
    "**runtime:** the interpreter reports an error while the program is running\n",
    "\n",
    "**semantic:** the program successfully executes, but produces unexpected/ incorrect results "
   ]
  },
  {
   "cell_type": "code",
   "execution_count": null,
   "metadata": {},
   "outputs": [],
   "source": [
    "# syntax errors\n",
    "\n",
    "print('my first \"string\"', \"and my second 'string'\")\n",
    "print(\"enclose a string in 'single' or \"double\" quotes\")"
   ]
  },
  {
   "cell_type": "code",
   "execution_count": null,
   "metadata": {},
   "outputs": [],
   "source": [
    "sub(pow(2, add(2, 10)), pow(2, 4))"
   ]
  },
  {
   "cell_type": "code",
   "execution_count": null,
   "metadata": {},
   "outputs": [],
   "source": [
    "# runtime errors\n",
    "\n",
    "myString = \"Lions and tigers and bears\"\n",
    "myString[99]"
   ]
  },
  {
   "cell_type": "code",
   "execution_count": null,
   "metadata": {},
   "outputs": [],
   "source": [
    "x = 1\n",
    "while (x > 0):\n",
    "    x += 1"
   ]
  },
  {
   "cell_type": "code",
   "execution_count": null,
   "metadata": {},
   "outputs": [],
   "source": [
    "# semantic errors\n",
    "def square(x):\n",
    "    return x * x\n",
    "\n",
    "x = 8"
   ]
  },
  {
   "cell_type": "code",
   "execution_count": null,
   "metadata": {},
   "outputs": [],
   "source": [
    "if type(x/2) is int:\n",
    "    print(\"x is even\")\n",
    "else:\n",
    "    print(\"x is odd\")"
   ]
  },
  {
   "cell_type": "markdown",
   "metadata": {},
   "source": [
    "## User input\n",
    "\n",
    "`input()` is a function we can use to solicit input from a user. The input function can take a string argument that becomes the prompt, or it can take no argument and simply produce a box for input. The user's input is interpreted as a string."
   ]
  },
  {
   "cell_type": "code",
   "execution_count": null,
   "metadata": {},
   "outputs": [],
   "source": [
    "input()"
   ]
  },
  {
   "cell_type": "code",
   "execution_count": null,
   "metadata": {},
   "outputs": [],
   "source": [
    "user_input = input()\n",
    "user_input"
   ]
  },
  {
   "cell_type": "code",
   "execution_count": null,
   "metadata": {},
   "outputs": [],
   "source": [
    "age = input('How old are you? ')\n",
    "age"
   ]
  },
  {
   "cell_type": "markdown",
   "metadata": {},
   "source": [
    "***\n",
    "We can import additional methods of collecting input. More ideas [here](queirozf.com/entries/interactive-controls-for-jupyter-notebooks-python-examples)."
   ]
  },
  {
   "cell_type": "code",
   "execution_count": null,
   "metadata": {},
   "outputs": [],
   "source": [
    "import getpass\n",
    "\n",
    "real_age = getpass.getpass(\"How old are you really? \")"
   ]
  },
  {
   "cell_type": "code",
   "execution_count": null,
   "metadata": {},
   "outputs": [],
   "source": [
    "# install a new module before importing it\n",
    "import sys\n",
    "!{sys.executable} -m pip install ipywidgets"
   ]
  },
  {
   "cell_type": "code",
   "execution_count": null,
   "metadata": {},
   "outputs": [],
   "source": [
    "from ipywidgets import widgets\n",
    "\n",
    "x=widgets.IntSlider(min=3,max=122)\n",
    "x"
   ]
  },
  {
   "cell_type": "code",
   "execution_count": null,
   "metadata": {},
   "outputs": [],
   "source": [
    "age = x.value\n",
    "age"
   ]
  },
  {
   "cell_type": "markdown",
   "metadata": {},
   "source": [
    "***\n",
    "## Conditionals\n",
    "\n",
    "A conditional statement in Python consists of a series of *headers* and *suites*: a required `if` clause, an optional sequence of `elif` clauses, and finally an optional `else` clause:\n",
    "\n",
    "`if <expression>:\n",
    "    <suite>\n",
    "elif <expression>:\n",
    "    <suite>\n",
    "else:\n",
    "    <suite>`\n",
    "    \n",
    "The expressions in the above if and elif statements are called *boolean contexts*. Boolean contexts can include the relational operators `==`,`!=`, `<`,`>`,`>=`,`=<`, along with the logical operators `and`, `or`, and `not`."
   ]
  },
  {
   "cell_type": "code",
   "execution_count": null,
   "metadata": {},
   "outputs": [],
   "source": [
    "prompt = \"have you had a birthday this year? [y/n] \\n\"\n",
    "bday = input(prompt)\n",
    "\n",
    "if (bday == 'y'):\n",
    "    print(\"You must have been born in \", 2019 - int(age))\n",
    "else:\n",
    "    print(\"You must have been born in \", 2018 - int(age))"
   ]
  },
  {
   "cell_type": "code",
   "execution_count": null,
   "metadata": {},
   "outputs": [],
   "source": [
    "if age > 21:\n",
    "    print(\"\")\n",
    "else:\n",
    "    print(\"\")"
   ]
  },
  {
   "cell_type": "code",
   "execution_count": null,
   "metadata": {},
   "outputs": [],
   "source": [
    "if age >= 3 and age <= 122:\n",
    "    print(age, \" seems like a good age to be\")\n",
    "elif age < 3 or age > 122:\n",
    "    print(age, \" seems like a curious age to be\")"
   ]
  },
  {
   "cell_type": "markdown",
   "metadata": {},
   "source": [
    "Sometimes we can anticipate exactly the type of error we might get if the user doesn't follow our instructions. Python allows us to *handle* these cases with what are called *exceptions*. See [The Python Tutorial, section 8.3](https://docs.python.org/3/tutorial/errors.html#handling-exceptions)"
   ]
  },
  {
   "cell_type": "code",
   "execution_count": null,
   "metadata": {},
   "outputs": [],
   "source": [
    "while True:\n",
    "    try:\n",
    "        age = int(input(\"How old are you? \"))\n",
    "        break\n",
    "    except ValueError:\n",
    "        print(\"Oops!  That was not a valid integer.  Try again...\")"
   ]
  }
 ],
 "metadata": {
  "kernelspec": {
   "display_name": "Python 3",
   "language": "python",
   "name": "python3"
  },
  "language_info": {
   "codemirror_mode": {
    "name": "ipython",
    "version": 3
   },
   "file_extension": ".py",
   "mimetype": "text/x-python",
   "name": "python",
   "nbconvert_exporter": "python",
   "pygments_lexer": "ipython3",
   "version": "3.7.3"
  }
 },
 "nbformat": 4,
 "nbformat_minor": 2
}
