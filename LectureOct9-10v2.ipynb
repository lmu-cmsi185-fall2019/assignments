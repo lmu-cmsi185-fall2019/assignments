{
 "cells": [
  {
   "cell_type": "markdown",
   "metadata": {},
   "source": [
    "## Classes and objects\n",
    "\n",
    "We will create a programmer-defined type, Point. Examples from [Think Python Chapter 15](http://greenteapress.com/thinkpython2/html/thinkpython2016.html)"
   ]
  },
  {
   "cell_type": "code",
   "execution_count": null,
   "metadata": {},
   "outputs": [],
   "source": [
    "class Point:\n",
    "    \"\"\"Represents a point in 2-D space.\"\"\""
   ]
  },
  {
   "cell_type": "code",
   "execution_count": null,
   "metadata": {},
   "outputs": [],
   "source": [
    "Point"
   ]
  },
  {
   "cell_type": "code",
   "execution_count": null,
   "metadata": {},
   "outputs": [],
   "source": [
    "s = str()\n",
    "s"
   ]
  },
  {
   "cell_type": "markdown",
   "metadata": {},
   "source": [
    "Creating a new object is called **instantiation**, and the *object* is an *instance* of the *class*. "
   ]
  },
  {
   "cell_type": "code",
   "execution_count": null,
   "metadata": {},
   "outputs": [],
   "source": [
    "pt = Point()\n",
    "pt # value is a reference to a Point object"
   ]
  },
  {
   "cell_type": "code",
   "execution_count": null,
   "metadata": {},
   "outputs": [],
   "source": [
    "type(pt)"
   ]
  },
  {
   "cell_type": "markdown",
   "metadata": {},
   "source": [
    "### Attributes "
   ]
  },
  {
   "cell_type": "code",
   "execution_count": null,
   "metadata": {},
   "outputs": [],
   "source": [
    "pt.x = 3.0\n",
    "pt.y = 4.0"
   ]
  },
  {
   "cell_type": "code",
   "execution_count": null,
   "metadata": {},
   "outputs": [],
   "source": [
    "pt.y"
   ]
  },
  {
   "cell_type": "code",
   "execution_count": null,
   "metadata": {},
   "outputs": [],
   "source": [
    "x = pt.x\n",
    "x"
   ]
  },
  {
   "cell_type": "markdown",
   "metadata": {},
   "source": [
    "[python tutor](http://pythontutor.com/visualize.html#code=class%20Point%3A%0A%20%20%20%20%22%22%22Represents%20a%20point%20in%202-D%20space.%22%22%22%0A%0A%0Apt%20%3D%20Point%28%29%0A%0Apt.x%20%3D%203.0%0Apt.y%20%3D%204.0&cumulative=false&curInstr=0&heapPrimitives=nevernest&mode=display&origin=opt-frontend.js&py=3&rawInputLstJSON=%5B%5D&textReferences=false)"
   ]
  },
  {
   "cell_type": "markdown",
   "metadata": {},
   "source": [
    "**The `init` method**"
   ]
  },
  {
   "cell_type": "code",
   "execution_count": null,
   "metadata": {},
   "outputs": [],
   "source": [
    "class Point:\n",
    "    \"\"\"Represents a point in 2-D space.\"\"\"\n",
    "    \n",
    "    def __init__(self, x=0, y=0):\n",
    "        self.x = x\n",
    "        self.y = y"
   ]
  },
  {
   "cell_type": "code",
   "execution_count": null,
   "metadata": {},
   "outputs": [],
   "source": [
    "p = Point()\n",
    "p"
   ]
  },
  {
   "cell_type": "code",
   "execution_count": null,
   "metadata": {},
   "outputs": [],
   "source": [
    "p.x"
   ]
  },
  {
   "cell_type": "code",
   "execution_count": null,
   "metadata": {},
   "outputs": [],
   "source": [
    "p.y"
   ]
  },
  {
   "cell_type": "code",
   "execution_count": null,
   "metadata": {},
   "outputs": [],
   "source": [
    "q = Point(4,9)"
   ]
  },
  {
   "cell_type": "code",
   "execution_count": null,
   "metadata": {},
   "outputs": [],
   "source": [
    "q.x"
   ]
  },
  {
   "cell_type": "code",
   "execution_count": null,
   "metadata": {},
   "outputs": [],
   "source": [
    "q.y"
   ]
  },
  {
   "cell_type": "markdown",
   "metadata": {},
   "source": [
    "**The `str` method**"
   ]
  },
  {
   "cell_type": "code",
   "execution_count": null,
   "metadata": {},
   "outputs": [],
   "source": [
    "class Point:\n",
    "    \"\"\"Represents a point in 2-D space.\"\"\"\n",
    "    \n",
    "    def __init__(self, x=0, y=0):\n",
    "        self.x = x\n",
    "        self.y = y\n",
    "        \n",
    "    def __str__(self):\n",
    "        return \"({},{})\".format(self.x, self.y)"
   ]
  },
  {
   "cell_type": "code",
   "execution_count": null,
   "metadata": {},
   "outputs": [],
   "source": [
    "p = Point()"
   ]
  },
  {
   "cell_type": "code",
   "execution_count": null,
   "metadata": {},
   "outputs": [],
   "source": [
    "print(p)"
   ]
  },
  {
   "cell_type": "markdown",
   "metadata": {},
   "source": [
    "**Another method**"
   ]
  },
  {
   "cell_type": "code",
   "execution_count": null,
   "metadata": {},
   "outputs": [],
   "source": [
    "import math\n",
    "\n",
    "class Point:\n",
    "    \"\"\"Represents a point in 2-D space.\"\"\"\n",
    "    \n",
    "    def __init__(self, x=0, y=0):\n",
    "        self.x = x\n",
    "        self.y = y\n",
    "        \n",
    "    def __str__(self):\n",
    "        return \"({},{})\".format(self.x, self.y)\n",
    "    \n",
    "    def distance(self):\n",
    "        return math.sqrt(self.x**2 + self.y**2)"
   ]
  },
  {
   "cell_type": "code",
   "execution_count": null,
   "metadata": {},
   "outputs": [],
   "source": [
    "p = Point(3,4)"
   ]
  },
  {
   "cell_type": "code",
   "execution_count": null,
   "metadata": {},
   "outputs": [],
   "source": [
    "p.distance()"
   ]
  },
  {
   "cell_type": "markdown",
   "metadata": {},
   "source": [
    "The following example, a Python class to model a car, is from Doug Purcell's Cracking Python Bootcamp."
   ]
  },
  {
   "cell_type": "code",
   "execution_count": 8,
   "metadata": {},
   "outputs": [],
   "source": [
    "from random import choice\n",
    "\n",
    "class Car:\n",
    "    \"\"\"\n",
    "    This class models a car in python.\n",
    "    \"\"\"\n",
    "    def __init__(self, year, make, model):\n",
    "        \"\"\"\n",
    "        Initializes the state of the car\n",
    "        object.\n",
    "        year: the year the car was manufactured.\n",
    "        make: the brand of the vehicle.\n",
    "        model: the name used by the manufacturer.\n",
    "        \"\"\"\n",
    "        self.year = year\n",
    "        self.make = make\n",
    "        self.model = model\n",
    "        self.speed = 0\n",
    "        self.colors = ['white', 'silver', 'black', 'grey',\n",
    "                       'blue', 'red', 'brown', 'green']\n",
    "\n",
    "        self.car_color = choice(self.colors)\n",
    "\n",
    "    def get_year(self):\n",
    "        return self.year\n",
    "\n",
    "    def get_make(self):\n",
    "        return self.make\n",
    "\n",
    "    def accelerate(self, amount=5):\n",
    "        x = amount\n",
    "        if self.speed < 300 and x < 60:\n",
    "            self.speed += amount\n",
    "        else:\n",
    "            raise ValueError('Invalid Amount')\n",
    "\n",
    "    def hit_brakes(self, amount=5):\n",
    "        x = amount\n",
    "        if self.speed > 0 and x < 60:\n",
    "            self.speed -= amount\n",
    "        else:\n",
    "            raise ValueError('Invalid Amount')\n",
    "\n",
    "    def is_stopped(self):\n",
    "        if self.speed == 0:\n",
    "            return True\n",
    "        return False\n",
    "\n",
    "    def is_moving(self):\n",
    "        if self.speed > 0:\n",
    "            return True\n",
    "        else:\n",
    "            return False\n",
    "\n",
    "    def get_color(self):\n",
    "        return self.car_color\n",
    "\n",
    "    def speedometer(self):\n",
    "        return '{} mph'.format(self.speed)"
   ]
  },
  {
   "cell_type": "code",
   "execution_count": 5,
   "metadata": {},
   "outputs": [
    {
     "name": "stdout",
     "output_type": "stream",
     "text": [
      "0 mph\n",
      "False\n",
      "True\n"
     ]
    }
   ],
   "source": [
    "myCar = Car('2010', 'Honda', 'Civic Hatchback')\n",
    "\n",
    "print(myCar.speedometer())\n",
    "print(myCar.is_moving())\n",
    "print(myCar.is_stopped())"
   ]
  },
  {
   "cell_type": "code",
   "execution_count": 6,
   "metadata": {},
   "outputs": [
    {
     "name": "stdout",
     "output_type": "stream",
     "text": [
      "10 mph\n"
     ]
    }
   ],
   "source": [
    "myCar.accelerate()\n",
    "myCar.accelerate()\n",
    "print(myCar.speedometer())"
   ]
  },
  {
   "cell_type": "code",
   "execution_count": 7,
   "metadata": {},
   "outputs": [
    {
     "name": "stdout",
     "output_type": "stream",
     "text": [
      "2010\n",
      "white\n"
     ]
    }
   ],
   "source": [
    "print(myCar.year)\n",
    "print(myCar.get_color())"
   ]
  },
  {
   "cell_type": "code",
   "execution_count": null,
   "metadata": {},
   "outputs": [],
   "source": [
    "myCar.hit_brakes(10)\n",
    "print(myCar.speedometer())"
   ]
  },
  {
   "cell_type": "markdown",
   "metadata": {},
   "source": [
    "### Lab Time\n",
    "\n",
    "Write a class that represents an account. First decide what the attributes of a bank account would be, and what functionality an account has, and what effect that functionality has on the attributes of that account.\n",
    "\n",
    "Create instances of accounts and see if your account attributes and methods represent the functionality of accounts."
   ]
  },
  {
   "cell_type": "code",
   "execution_count": null,
   "metadata": {},
   "outputs": [],
   "source": []
  }
 ],
 "metadata": {
  "kernelspec": {
   "display_name": "Python 3",
   "language": "python",
   "name": "python3"
  },
  "language_info": {
   "codemirror_mode": {
    "name": "ipython",
    "version": 3
   },
   "file_extension": ".py",
   "mimetype": "text/x-python",
   "name": "python",
   "nbconvert_exporter": "python",
   "pygments_lexer": "ipython3",
   "version": "3.7.3"
  }
 },
 "nbformat": 4,
 "nbformat_minor": 2
}
