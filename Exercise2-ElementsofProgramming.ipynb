{
 "cells": [
  {
   "cell_type": "markdown",
   "metadata": {},
   "source": [
    "# Conditionals and User Input\n",
    "\n",
    "Accompanying text for this exercise is [Think Python Ch 5.1-5.7](http://greenteapress.com/thinkpython2/html/thinkpython2006.html), and [Composing Programs 1.5.4](http://composingprograms.com/pages/15-control.html#conditional-statements)"
   ]
  },
  {
   "cell_type": "markdown",
   "metadata": {},
   "source": [
    "## Using conditional statements to validate user input\n",
    "\n",
    "1) Ask the user their age and save the input to a variable.\n",
    "\n",
    "2) The oldest person in recorded history lived to be 122. It's debatable what level of fine-motor skills are needed to push a button on a keyboard, but let's say at least those of a 3 year-old. If a user enters an age of less than 3 or greater than 122, respond with a question and opportunity to re-enter an age."
   ]
  },
  {
   "cell_type": "code",
   "execution_count": null,
   "metadata": {},
   "outputs": [],
   "source": [
    "..."
   ]
  },
  {
   "cell_type": "markdown",
   "metadata": {},
   "source": [
    "3) Copy your conditional statement to a new cell below and update your code so the prompt repeats if the response is not a number between 3 and 122.\n",
    "\n",
    "*Optional bonus challenge...* \n",
    "\n",
    "4a) Allow the user to enter a decimal number as their age\n",
    "\n",
    "4b) Handle user input that is not a number without the program causing an error. See [The Python Tutorial, section 8.3](https://docs.python.org/3/tutorial/errors.html#handling-exceptions)"
   ]
  },
  {
   "cell_type": "code",
   "execution_count": null,
   "metadata": {},
   "outputs": [],
   "source": [
    "..."
   ]
  },
  {
   "cell_type": "markdown",
   "metadata": {},
   "source": [
    "***\n",
    "## More statements and expressions\n",
    "\n",
    "The time module provides a function, also named time, that returns the current Greenwich Mean Time in “the epoch”, which is an arbitrary time used as a reference point. On UNIX systems, the epoch is 1 January 1970.\n",
    "\n",
    "Write a script that reads the current time and converts it to a time of day in hours, minutes, and seconds, in Pacific Time, plus the number of days since the epoch."
   ]
  },
  {
   "cell_type": "code",
   "execution_count": null,
   "metadata": {},
   "outputs": [],
   "source": [
    "# run this cell first\n",
    "import time\n",
    "time.time()"
   ]
  },
  {
   "cell_type": "code",
   "execution_count": null,
   "metadata": {},
   "outputs": [],
   "source": [
    "..."
   ]
  }
 ],
 "metadata": {
  "kernelspec": {
   "display_name": "Python 3",
   "language": "python",
   "name": "python3"
  },
  "language_info": {
   "codemirror_mode": {
    "name": "ipython",
    "version": 3
   },
   "file_extension": ".py",
   "mimetype": "text/x-python",
   "name": "python",
   "nbconvert_exporter": "python",
   "pygments_lexer": "ipython3",
   "version": "3.7.3"
  }
 },
 "nbformat": 4,
 "nbformat_minor": 2
}
