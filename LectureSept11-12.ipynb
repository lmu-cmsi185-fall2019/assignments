{
 "cells": [
  {
   "cell_type": "markdown",
   "metadata": {},
   "source": [
    "### Designing Functions\n",
    "\n",
    "The following function definitions include docstrings and comments. These examples are from [Composing Programs 1.4](http://composingprograms.com/pages/14-designing-functions.html).\n",
    "\n",
    "***\n",
    "**Documentation**"
   ]
  },
  {
   "cell_type": "code",
   "execution_count": null,
   "metadata": {},
   "outputs": [],
   "source": [
    "def pressure(v, t, n):\n",
    "        \"\"\"Compute the pressure in pascals of an ideal gas.\n",
    "\n",
    "        Applies the ideal gas law: http://en.wikipedia.org/wiki/Ideal_gas_law\n",
    "\n",
    "        v -- volume of gas, in cubic meters\n",
    "        t -- absolute temperature in degrees kelvin\n",
    "        n -- particles of gas\n",
    "        \"\"\"\n",
    "        k = 1.38e-23  # Boltzmann's constant\n",
    "        return n * k * t / v"
   ]
  },
  {
   "cell_type": "code",
   "execution_count": null,
   "metadata": {},
   "outputs": [],
   "source": [
    "help(pressure)"
   ]
  },
  {
   "cell_type": "markdown",
   "metadata": {},
   "source": [
    "***\n",
    "**Default Arguments**\n",
    "\n",
    "Notice how the behavior of the `=` depends on the context."
   ]
  },
  {
   "cell_type": "code",
   "execution_count": null,
   "metadata": {},
   "outputs": [],
   "source": [
    "def pressure(v, t, n=6.022e23):\n",
    "        \"\"\"Compute the pressure in pascals of an ideal gas.\n",
    "\n",
    "        Applies the ideal gas law: http://en.wikipedia.org/wiki/Ideal_gas_law\n",
    "\n",
    "        v -- volume of gas, in cubic meters\n",
    "        t -- absolute temperature in degrees kelvin\n",
    "        n -- particles of gas (default one mole)\n",
    "        \"\"\"\n",
    "        k = 1.38e-23  # Boltzmann's constant\n",
    "        return n * k * t / v"
   ]
  },
  {
   "cell_type": "code",
   "execution_count": null,
   "metadata": {},
   "outputs": [],
   "source": [
    "pressure(1, 273.15)"
   ]
  },
  {
   "cell_type": "code",
   "execution_count": null,
   "metadata": {},
   "outputs": [],
   "source": [
    "pressure(1, 273.15, 3 * 6.022e23)"
   ]
  },
  {
   "cell_type": "code",
   "execution_count": null,
   "metadata": {},
   "outputs": [],
   "source": [
    "def defaults(a, b, c='C', d='D'):\n",
    "    \"\"\"Print the arguments\n",
    "    \n",
    "    a -- first argument\n",
    "    b -- second argument\n",
    "    c -- third argument (default 'C')\n",
    "    d -- third argument (default 'D')\n",
    "    \"\"\"\n",
    "    print(a)\n",
    "    print(b)\n",
    "    print(c)\n",
    "    print(d)"
   ]
  },
  {
   "cell_type": "code",
   "execution_count": null,
   "metadata": {},
   "outputs": [],
   "source": [
    "defaults(\"a\",\"b\")"
   ]
  },
  {
   "cell_type": "code",
   "execution_count": null,
   "metadata": {},
   "outputs": [],
   "source": [
    "defaults(\"a\",\"b\",\"c\",\"d\")"
   ]
  },
  {
   "cell_type": "code",
   "execution_count": null,
   "metadata": {},
   "outputs": [],
   "source": [
    "defaults(\"a\",\"b\",\"d\")"
   ]
  },
  {
   "cell_type": "code",
   "execution_count": null,
   "metadata": {},
   "outputs": [],
   "source": [
    "help(defaults)"
   ]
  },
  {
   "cell_type": "markdown",
   "metadata": {},
   "source": [
    "Only default arguements can be passed to functions using `=`. We only need to use `=` when the order is not obvious."
   ]
  },
  {
   "cell_type": "code",
   "execution_count": null,
   "metadata": {},
   "outputs": [],
   "source": [
    "defaults(a=\"ay\", b=\"bee\",c=\"see\",d=\"dee\")"
   ]
  },
  {
   "cell_type": "code",
   "execution_count": null,
   "metadata": {},
   "outputs": [],
   "source": [
    "defaults(\"ay\", \"bee\",c=\"see\",d=\"dee\")"
   ]
  },
  {
   "cell_type": "code",
   "execution_count": null,
   "metadata": {},
   "outputs": [],
   "source": [
    "defaults(\"ay\", \"bee\",d=\"see\",c=\"dee\")"
   ]
  },
  {
   "cell_type": "code",
   "execution_count": null,
   "metadata": {},
   "outputs": [],
   "source": [
    "defaults(\"ay\", \"bee\",\"see\",\"dee\")"
   ]
  },
  {
   "cell_type": "markdown",
   "metadata": {},
   "source": [
    "***\n",
    "### Iteration\n",
    "\n",
    "These examples are from [Think Python Chapter 7](http://greenteapress.com/thinkpython2/html/thinkpython2008.html)\n",
    "\n",
    "**Variable reassignment** the `=` as an assignment operator does not have the same implications as a mathematical *equals*, as in always equals."
   ]
  },
  {
   "cell_type": "code",
   "execution_count": null,
   "metadata": {},
   "outputs": [],
   "source": [
    "x = 5\n",
    "x"
   ]
  },
  {
   "cell_type": "code",
   "execution_count": null,
   "metadata": {},
   "outputs": [],
   "source": [
    "x = 7\n",
    "x"
   ]
  },
  {
   "cell_type": "code",
   "execution_count": null,
   "metadata": {},
   "outputs": [],
   "source": [
    "a = 5\n",
    "b = a    # a and b are now equal\n",
    "a = 3    # a and b are no longer equal\n",
    "b"
   ]
  },
  {
   "cell_type": "markdown",
   "metadata": {},
   "source": [
    "Use variable reassignment with caution – if the values of variables change frequently, it can make the code difficult to read and debug.\n",
    "\n",
    "**Updating variables:** new value of a variable depends on the old value."
   ]
  },
  {
   "cell_type": "code",
   "execution_count": null,
   "metadata": {},
   "outputs": [],
   "source": [
    "i = i+1"
   ]
  },
  {
   "cell_type": "code",
   "execution_count": null,
   "metadata": {},
   "outputs": [],
   "source": [
    "i = 0 # before we can update a variable, we need to *initialize* it\n",
    "i = i+1 # increment\n",
    "i = i-1 # decrement\n",
    "i"
   ]
  },
  {
   "cell_type": "markdown",
   "metadata": {},
   "source": [
    "***\n",
    "\n",
    "### The `while` statement\n"
   ]
  },
  {
   "cell_type": "code",
   "execution_count": null,
   "metadata": {},
   "outputs": [],
   "source": [
    "import time\n",
    "\n",
    "def countdown(n):\n",
    "    while n > 0:\n",
    "        print(n)\n",
    "        time.sleep(1)\n",
    "        n = n - 1\n",
    "    print('Blastoff!')"
   ]
  },
  {
   "cell_type": "code",
   "execution_count": null,
   "metadata": {},
   "outputs": [],
   "source": [
    "countdown(3)"
   ]
  },
  {
   "cell_type": "markdown",
   "metadata": {},
   "source": [
    "Using `break` and `continue`"
   ]
  },
  {
   "cell_type": "code",
   "execution_count": null,
   "metadata": {},
   "outputs": [],
   "source": [
    "def lazy_countdown(n):\n",
    "    while n > 0:\n",
    "        print(n)\n",
    "        time.sleep(1) # pause for counting\n",
    "        \n",
    "        # laziness\n",
    "        if(n > 10): \n",
    "            print(\"why wait...\")\n",
    "            break\n",
    "        \n",
    "        n = n - 1 # decrement n\n",
    "    print('Blastoff!')"
   ]
  },
  {
   "cell_type": "code",
   "execution_count": null,
   "metadata": {},
   "outputs": [],
   "source": [
    "lazy_countdown(3)"
   ]
  },
  {
   "cell_type": "code",
   "execution_count": null,
   "metadata": {},
   "outputs": [],
   "source": [
    "lazy_countdown(12)"
   ]
  },
  {
   "cell_type": "code",
   "execution_count": null,
   "metadata": {},
   "outputs": [],
   "source": [
    "def lazy_countdown(n):\n",
    "    while n > 0:\n",
    "        print(n)\n",
    "        time.sleep(1) # pause for counting\n",
    "        \n",
    "        # laziness\n",
    "        if n > 9:\n",
    "            print(\"...let's not.\")\n",
    "            break\n",
    "            \n",
    "        n = n - 1  # decrement n\n",
    "        \n",
    "        if n > 0:  # to blastoff or not to blastoff\n",
    "            continue\n",
    "\n",
    "        print('Blastoff!')"
   ]
  },
  {
   "cell_type": "code",
   "execution_count": null,
   "metadata": {},
   "outputs": [],
   "source": [
    "lazy_countdown(11)"
   ]
  },
  {
   "cell_type": "code",
   "execution_count": null,
   "metadata": {},
   "outputs": [],
   "source": [
    "for i in range(4):\n",
    "    print('Hello!')"
   ]
  },
  {
   "cell_type": "code",
   "execution_count": null,
   "metadata": {},
   "outputs": [],
   "source": []
  }
 ],
 "metadata": {
  "kernelspec": {
   "display_name": "Python 3",
   "language": "python",
   "name": "python3"
  },
  "language_info": {
   "codemirror_mode": {
    "name": "ipython",
    "version": 3
   },
   "file_extension": ".py",
   "mimetype": "text/x-python",
   "name": "python",
   "nbconvert_exporter": "python",
   "pygments_lexer": "ipython3",
   "version": "3.7.3"
  }
 },
 "nbformat": 4,
 "nbformat_minor": 2
}
