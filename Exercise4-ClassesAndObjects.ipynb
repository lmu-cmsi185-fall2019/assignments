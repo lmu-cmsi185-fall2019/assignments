{
 "cells": [
  {
   "cell_type": "markdown",
   "metadata": {},
   "source": [
    "# PyCats\n",
    "\n",
    "**Due Thurs Oct 17 before class**\n",
    "\n",
    "Inspired by the Dogs project from the [Cracking Python Bootcamp](https://github.com/purcellconsult/Cracking-Python-Bootcamp/blob/5b9bf28c3d17a9daf55cb7f18fc6750d2242d1c4/07_oop_dogs.py).\n",
    "\n",
    "**Part 1:**\n",
    "\n",
    "For this exercise, visit [PetFinder's list of cat breeds](https://www.petfinder.com/cat-breeds/), and model 3 breeds of your choice as Python classes. Each cat breed class should en-*tail* at least 3 attributes, and 2 methods. The attributes and methods can be simple or complex or silly, as long as they have *some* relation to the descriptions of that breed on PetFinder. The methods can be the same as long as the implementation is specific to that breed. Think about what the cats _do_ (what _methods_ the classes will have) and how that \"behavior\" may affect or be affected by their attribute values."
   ]
  },
  {
   "cell_type": "code",
   "execution_count": null,
   "metadata": {},
   "outputs": [],
   "source": []
  },
  {
   "cell_type": "markdown",
   "metadata": {},
   "source": [
    "**Part 2:**\n",
    "\n",
    "Create a few instances of each cat breed class, such that we end up with at least 5 cat instances... that's not too many cats, right?"
   ]
  },
  {
   "cell_type": "code",
   "execution_count": null,
   "metadata": {},
   "outputs": [],
   "source": []
  }
 ],
 "metadata": {
  "kernelspec": {
   "display_name": "Python 3",
   "language": "python",
   "name": "python3"
  },
  "language_info": {
   "codemirror_mode": {
    "name": "ipython",
    "version": 3
   },
   "file_extension": ".py",
   "mimetype": "text/x-python",
   "name": "python",
   "nbconvert_exporter": "python",
   "pygments_lexer": "ipython3",
   "version": "3.6.7"
  }
 },
 "nbformat": 4,
 "nbformat_minor": 2
}
