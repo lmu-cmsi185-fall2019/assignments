{
 "cells": [
  {
   "cell_type": "markdown",
   "metadata": {},
   "source": [
    "# Lecture examples for Aug 28-29\n",
    "***\n",
    "## Values and Types\n",
    "\n",
    "**value**: basic unit of data manipulated by programs\n",
    "\n",
    "values *have* types\n",
    "\n",
    "**type**: category of values, such as integers (int), floating-point numbers (float), and strings (str), booleans (bool), etc."
   ]
  },
  {
   "cell_type": "code",
   "execution_count": null,
   "metadata": {},
   "outputs": [],
   "source": [
    "# Try me: 0, 0.1134, \"Hello\", 'hello', hello, \"สวัสดี\", \"Strings are special\", greeting = \"sup!?\", 1,000,000\n",
    "# true, False, False = True, true = False, True == False, print, ..., *, # is a comment a type? why or why not?\n",
    "\"\"\"\n",
    "what about a multi-line comment?\n",
    "\"\"\"\n",
    "\n",
    "type(...)"
   ]
  },
  {
   "cell_type": "markdown",
   "metadata": {},
   "source": [
    "**Strings are a special type**\n",
    "\n",
    "Almost no matter what we put in single or double quotes, Python accepts our `str`. If our string contains single or double quotation marks, the string should be placed in double or single quotes respectively. If the string *must* contain both single and double quotation marks for some reason... we must \"escape\" the problem quotation mark(s) with a preceeding '\\\\'"
   ]
  },
  {
   "cell_type": "code",
   "execution_count": null,
   "metadata": {},
   "outputs": [],
   "source": [
    "print('my first \"string\"', \"and my second 'string'\")"
   ]
  },
  {
   "cell_type": "code",
   "execution_count": null,
   "metadata": {},
   "outputs": [],
   "source": [
    "print(\"enclose a string in 'single' or \"double\" quotes\")"
   ]
  },
  {
   "cell_type": "markdown",
   "metadata": {},
   "source": [
    "Strings can sometimes be used in expressions with the `+` or `*` operators. Combining strings end to end is called *concatination*. "
   ]
  },
  {
   "cell_type": "code",
   "execution_count": null,
   "metadata": {},
   "outputs": [],
   "source": [
    "\"LOL \" + \"so funny\""
   ]
  },
  {
   "cell_type": "code",
   "execution_count": null,
   "metadata": {},
   "outputs": [],
   "source": [
    "\"ha\" * 10"
   ]
  },
  {
   "cell_type": "markdown",
   "metadata": {},
   "source": [
    "Each character in a string has a index, where in the string it sits. We can access the characters using `[int]` and `[::]`."
   ]
  },
  {
   "cell_type": "code",
   "execution_count": null,
   "metadata": {},
   "outputs": [],
   "source": [
    "\"rofl\"[2]"
   ]
  },
  {
   "cell_type": "markdown",
   "metadata": {},
   "source": [
    "Without getting too ahead of ourselves, strings are also *comparable.* `==` is the operator for comparing whether values are equal. We can also use `<` and `>`. One string is `>` than another if it is alphabetically preceding."
   ]
  },
  {
   "cell_type": "code",
   "execution_count": null,
   "metadata": {},
   "outputs": [],
   "source": [
    "'apples'=='apples'"
   ]
  },
  {
   "cell_type": "markdown",
   "metadata": {},
   "source": [
    "`in` is another operator that can be used in evaluating strings. `in` returns `True` if the preceding string appears as a substring of the second string."
   ]
  },
  {
   "cell_type": "code",
   "execution_count": null,
   "metadata": {},
   "outputs": [],
   "source": [
    "'a' in 'banana'"
   ]
  },
  {
   "cell_type": "markdown",
   "metadata": {},
   "source": [
    "***\n",
    "## Variables\n",
    "\n",
    "**variable:** name that refers to a value\n",
    "\n",
    "**assignment statement:** creates new variable(s) and *binds* them to values, the `=` is the *assignment operator*"
   ]
  },
  {
   "cell_type": "code",
   "execution_count": null,
   "metadata": {},
   "outputs": [],
   "source": [
    "pi = 3.14\n",
    "pi"
   ]
  },
  {
   "cell_type": "markdown",
   "metadata": {},
   "source": [
    "Variables can also be imported."
   ]
  },
  {
   "cell_type": "code",
   "execution_count": null,
   "metadata": {},
   "outputs": [],
   "source": [
    "from math import pi\n",
    "pi"
   ]
  },
  {
   "cell_type": "code",
   "execution_count": null,
   "metadata": {},
   "outputs": [],
   "source": [
    "radius = 23\n",
    "area = pi * pow(radius, 2)\n",
    "area"
   ]
  },
  {
   "cell_type": "markdown",
   "metadata": {},
   "source": [
    "\"In this way, complex programs are constructed by building, step by step, computational objects of increasing complexity.\" \\- [Composing Programs 1.2](http://composingprograms.com/pages/12-elements-of-programming.html#names-and-the-environment)\n",
    "***\n",
    "**Names and the environment**\n",
    "\n",
    "Variables have names, but remember so do functions! When we use the assignment operator, we control what names are bound to which values *or* functions..."
   ]
  },
  {
   "cell_type": "code",
   "execution_count": null,
   "metadata": {},
   "outputs": [],
   "source": [
    "morePi = pi + 1\n",
    "morePi"
   ]
  },
  {
   "cell_type": "code",
   "execution_count": null,
   "metadata": {},
   "outputs": [],
   "source": [
    "max"
   ]
  },
  {
   "cell_type": "code",
   "execution_count": null,
   "metadata": {},
   "outputs": [],
   "source": [
    "pi = max\n",
    "max = morePi\n",
    "\n",
    "max"
   ]
  },
  {
   "cell_type": "code",
   "execution_count": null,
   "metadata": {},
   "outputs": [],
   "source": [
    "max(pi, morePi) # now what!?"
   ]
  },
  {
   "cell_type": "markdown",
   "metadata": {},
   "source": [
    "We sneakily reassigned `max` the function to `max` the value. This is *legal*, but it's not cool. While Python does allow reassigning names like this, it will not allow *keywords* to be used as variable names."
   ]
  },
  {
   "cell_type": "code",
   "execution_count": null,
   "metadata": {},
   "outputs": [],
   "source": [
    "import = pi"
   ]
  },
  {
   "cell_type": "code",
   "execution_count": null,
   "metadata": {},
   "outputs": [],
   "source": [
    "greeting = \"Hi \"\n",
    "name = \"IGGY\"\n",
    "\n",
    "greeting + name # what is the difference between this and a print statement?"
   ]
  },
  {
   "cell_type": "markdown",
   "metadata": {},
   "source": [
    "***\n",
    "## Statements and expressions\n",
    "\n",
    "**expression:** combination of values, variables, and operators\n",
    "\n",
    "**statement:** executable unit of code\n",
    "\n",
    "Expressions are evaluated. Statements are executed. So far we've seen print, assignment, and import statements. There are more on the way!"
   ]
  },
  {
   "cell_type": "code",
   "execution_count": null,
   "metadata": {},
   "outputs": [],
   "source": [
    "# Example statements\n",
    "width = 18\n",
    "height = 12.0\n",
    "delimiter = '.'\n",
    "\n",
    "# Example expressions\n",
    "width/2"
   ]
  },
  {
   "cell_type": "code",
   "execution_count": null,
   "metadata": {},
   "outputs": [],
   "source": [
    "height/2.0"
   ]
  },
  {
   "cell_type": "code",
   "execution_count": null,
   "metadata": {},
   "outputs": [],
   "source": [
    "4 + 11 * 5"
   ]
  },
  {
   "cell_type": "code",
   "execution_count": null,
   "metadata": {},
   "outputs": [],
   "source": [
    "delimiter * 3"
   ]
  },
  {
   "cell_type": "markdown",
   "metadata": {},
   "source": [
    "**Nested Expressions**\n",
    "\n",
    "See [Composing Programs 1.2.5](http://composingprograms.com/pages/12-elements-of-programming.html#evaluating-nested-expressions)"
   ]
  },
  {
   "cell_type": "code",
   "execution_count": null,
   "metadata": {},
   "outputs": [],
   "source": [
    "from operator import add, sub, mul\n",
    "\n",
    "sub(pow(2, add(2, 10)), pow(2, 4))"
   ]
  },
  {
   "cell_type": "code",
   "execution_count": null,
   "metadata": {},
   "outputs": [],
   "source": [
    "add(5*7,8+6)"
   ]
  },
  {
   "cell_type": "markdown",
   "metadata": {},
   "source": [
    "***\n",
    "## Errors\n",
    "\n",
    "See *Think Python* [Apendix A](http://greenteapress.com/thinkpython2/html/thinkpython2021.html)\n",
    "\n",
    "**syntax:** the interpreter has a problem with the code when it is translating it into byte code \n",
    "\n",
    "**runtime:** the interpreter reports an error while the program is running\n",
    "\n",
    "**semantic:** the program successfully executes, but produces unexpected/ incorrect results  \n"
   ]
  },
  {
   "cell_type": "code",
   "execution_count": null,
   "metadata": {},
   "outputs": [],
   "source": [
    "# syntax errors\n",
    "\n",
    "print('my first \"string\"', \"and my second 'string'\")\n",
    "print(\"enclose a string in 'single' or \"double\" quotes\")"
   ]
  },
  {
   "cell_type": "code",
   "execution_count": null,
   "metadata": {},
   "outputs": [],
   "source": [
    "sub(pow(2, add(2, 10)), pow(2, 4)"
   ]
  },
  {
   "cell_type": "code",
   "execution_count": null,
   "metadata": {},
   "outputs": [],
   "source": [
    "# runtime errors\n",
    "\n",
    "myString = \"Lions and tigers and bears\"\n",
    "myString[99]"
   ]
  },
  {
   "cell_type": "code",
   "execution_count": null,
   "metadata": {},
   "outputs": [],
   "source": [
    "x = 1\n",
    "while (x > 0):\n",
    "    x += 1"
   ]
  },
  {
   "cell_type": "code",
   "execution_count": null,
   "metadata": {},
   "outputs": [],
   "source": [
    "# semantic errors\n",
    "from math import sqrt\n",
    "x = 18"
   ]
  },
  {
   "cell_type": "code",
   "execution_count": null,
   "metadata": {},
   "outputs": [],
   "source": [
    "if type(x/2) is int:\n",
    "    print(\"x is even\")\n",
    "else:\n",
    "    print(\"x is odd\")"
   ]
  },
  {
   "cell_type": "code",
   "execution_count": null,
   "metadata": {},
   "outputs": [],
   "source": []
  }
 ],
 "metadata": {
  "kernelspec": {
   "display_name": "Python 3",
   "language": "python",
   "name": "python3"
  },
  "language_info": {
   "codemirror_mode": {
    "name": "ipython",
    "version": 3
   },
   "file_extension": ".py",
   "mimetype": "text/x-python",
   "name": "python",
   "nbconvert_exporter": "python",
   "pygments_lexer": "ipython3",
   "version": "3.6.8"
  }
 },
 "nbformat": 4,
 "nbformat_minor": 2
}
