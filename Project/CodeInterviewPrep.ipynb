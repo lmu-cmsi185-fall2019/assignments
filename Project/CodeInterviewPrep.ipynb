{
 "cells": [
  {
   "cell_type": "markdown",
   "metadata": {},
   "source": [
    "## Code Interview Prep\n",
    "\n",
    "For this project, you will solve the required problems plus \"six\" coding interview style questions of your choice from the suggested [LeetCode](https://leetcode.com/problems) problems below, where <font color=green>easy</font> problems count for 1, <font color=orange>medium</font> problems count for 2, and <font color=red>hard</font> problems count for 3. \n",
    "\n",
    "The purpose of this project is to simulate the experience of preparing for coding interviews. As such, it is as or more important that you understand and communicate each step of your coding than it is for your code to run perfectly.\n",
    "\n",
    "**Requirements:**\n",
    "\n",
    "- Problems must include at least two different difficulty levels.\n",
    "- Solve each problem by writing and editing your code on the LeetCode platform. LeetCode has built-in tests such that you can submit your solution and it will let you know if the expected results are achieved. When your solution passes, copy and paste your code into a code cell below.\n",
    "- Each solution needs to be accompanied by a markdown cell with explanations of 1) your initial impressions and ideas after reading the problem (before you start coding)\\*, 2) observations from your process of solving the problem, and 3) reflections on strengths and weaknesses or applicability. A few sentences for each part is ideal. \n",
    "- Code will be evaluated by standards on the project rubric.\n",
    "- If your explanations are not clearly demonstrating that you understand the code you submit, you will not recieve **any** credit for that problem.\n",
    "- Schedule an appointment with Dr. Freitas for an in-person practice problem during the week of Dec 9-13. This notebook is due **Dec 10th**.\n",
    "\n",
    "\\* \"Interviewers want to see how you tackle a problem; they don't expect you to immediately know the answer.\" - [CTCI](http://www.crackingthecodinginterview.com/) p. 121\n",
    "\n",
    "**Required problems:**\n",
    "\n",
    "- _Remove Vowels_ Write a function that takes a string as input and returns that string with the vowels removed.\n",
    "\n",
    "- _One Away_ The following string operations count as one edit: delete a character, insert a character, or subsitute a character. Write a function that accepts two strings as input, and returns true if the strings are one edit away from being equal to each other, otherwise returns false.\n",
    "\n",
    "- _Triangles_ If you are given three sticks, you may or may not be able to arrange them in a triangle. For example, if one of the sticks is 12 inches long and the other two are one inch long, you will not be able to get the short sticks to meet in the middle. For any three lengths, there is a simple test to see if it is possible to form a triangle: If any of the three lengths is greater than the sum of the other two, then you cannot form a triangle. Otherwise, you can. (If the sum of two lengths equals the third, they form what is called a “degenerate” triangle.) Write a function named `is_triangle` that 1) asks for 3 stick lengths as input, 2) converts those three numbers to integers, and 3) prints either “Yes” or “No”, depending on whether you can or cannot form a triangle from sticks with the given lengths.\n"
   ]
  },
  {
   "cell_type": "code",
   "execution_count": null,
   "metadata": {},
   "outputs": [],
   "source": []
  },
  {
   "cell_type": "markdown",
   "metadata": {},
   "source": []
  },
  {
   "cell_type": "code",
   "execution_count": null,
   "metadata": {},
   "outputs": [],
   "source": []
  },
  {
   "cell_type": "markdown",
   "metadata": {},
   "source": []
  },
  {
   "cell_type": "code",
   "execution_count": null,
   "metadata": {},
   "outputs": [],
   "source": []
  },
  {
   "cell_type": "markdown",
   "metadata": {},
   "source": [
    "\n",
    "**Suggested problems:**\n",
    "\n",
    "Many problems on LeetCode cover data structures and algorithms concepts you won't see until, well, data structures and algorithms classes. Below are some problems I suggest based on CMSI 185 material. In particular, don't worry about _complexity analysis_ or _runtime complexity_ , or using specific data structures other than lists or dictionaries. If you would like to solve a LeetCode problem other than those below, you may email a link to the problem you'd like to solve to Dr. Freitas for approval.\n",
    "\n",
    "_Easy_\n",
    "\n",
    "- [Implement strStr()](https://leetcode.com/problems/implement-strstr/)\n",
    "- [Length of last word](https://leetcode.com/problems/length-of-last-word/)\n",
    "- [Two sum](https://leetcode.com/problems/two-sum/)\n",
    "- [Balanced strings](https://leetcode.com/problems/split-a-string-in-balanced-strings/)\n",
    "- [Palindrome number](https://leetcode.com/problems/palindrome-number/)\n",
    "- [Remove Outermost Parentheses](https://leetcode.com/problems/remove-outermost-parentheses/)\n",
    "- [Find Common Characters](https://leetcode.com/problems/find-common-characters/)\n",
    "\n",
    "_Medium_\n",
    "\n",
    "- [Magic dictionary](https://leetcode.com/problems/implement-magic-dictionary/)\n",
    "- [Longest substring](https://leetcode.com/problems/longest-substring-without-repeating-characters/)\n",
    "- [ZigZag conversion](https://leetcode.com/problems/zigzag-conversion/)\n",
    "- [Letter combinations of a phone number](https://leetcode.com/problems/letter-combinations-of-a-phone-number/)\n",
    "- [Stone Game II](https://leetcode.com/problems/stone-game-ii/)\n",
    "    - There are an even number of piles arranged in a row, and each pile has a positive integer number of stones piles. The objective of the game is to end with the most stones.  The total number of stones is odd, so there are no ties. Alex and Lee take turns, with Alex starting first.  Each turn, a player takes the entire pile of stones from either the beginning or the end of the row.  This continues until there are no more piles left, at which point the person with the most stones wins.\n",
    "- [Nth digit](https://leetcode.com/problems/nth-digit/)\n",
    "\n",
    "_Hard_\n",
    "\n",
    "- [Valid number](https://leetcode.com/problems/valid-number/)\n",
    "- [Jump game II](https://leetcode.com/problems/jump-game-ii/)\n",
    "- [Largest rectangle in a histogram](https://leetcode.com/problems/largest-rectangle-in-histogram/)\n",
    "- [Last substring in lexicographical order](https://leetcode.com/problems/last-substring-in-lexicographical-order/)"
   ]
  },
  {
   "cell_type": "markdown",
   "metadata": {},
   "source": []
  },
  {
   "cell_type": "code",
   "execution_count": null,
   "metadata": {},
   "outputs": [],
   "source": []
  }
 ],
 "metadata": {
  "kernelspec": {
   "display_name": "Python 3",
   "language": "python",
   "name": "python3"
  },
  "language_info": {
   "codemirror_mode": {
    "name": "ipython",
    "version": 3
   },
   "file_extension": ".py",
   "mimetype": "text/x-python",
   "name": "python",
   "nbconvert_exporter": "python",
   "pygments_lexer": "ipython3",
   "version": "3.7.3"
  }
 },
 "nbformat": 4,
 "nbformat_minor": 2
}
