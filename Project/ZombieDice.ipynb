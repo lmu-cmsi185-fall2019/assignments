{
 "cells": [
  {
   "cell_type": "markdown",
   "metadata": {},
   "source": [
    "![Zombie Dice](https://inventwithpython.com/images/zombiedice_dice.jpg)\n",
    "\n",
    "Rules and resources here: [Zombie Dice](http://www.sjgames.com/dice/zombiedice/)"
   ]
  },
  {
   "cell_type": "markdown",
   "metadata": {},
   "source": [
    "## Part One: Strategize\n",
    "\n",
    "Read the rules of the game carefully. On paper or a whiteboard, determine what classes and subclasses you need to create this game. What values and bahaviors belong to these classes? Think about the game step by step, what is happening and what information is needed? Try to forget about specific lines of code for this part and maybe even spend MOST of your time here planning. Draw [class diagrams](http://greenteapress.com/thinkpython2/html/thinkpython2019.html) for classes and flow charts for each function.\n",
    "\n",
    "**Requirements to account for in your strategy:**\n",
    "\n",
    "- You will need a `Dice` class, a `ZombieDiceGame` class, and a `Player` class with appropriate attribute values and functions, along with `Dice` subclasses to represent the green, yellow, and red dice that come with the game. \n",
    "- Dice subclasses should have emoji faces, rather than dots and keep track of whether the roll result is a brain, blast, or footprints. Because dice still have 6 sides, and dictionaries require unique keys, it may be useful to keep the value of the roll attribute numerical.\n",
    "- At least 2 `Player` subclasses, one representing a different strategy than your default (e.g., greedy or random) and the other to implement an `InteractiveMode` where user input determines whether to roll again or not\n",
    "- All rules and features of the game should be implemented correctly, including but not limited to allowing for 2 or more players, using 13 dice, finishing the round even after a player has won, etc.\n",
    "- If you are working with a partner, you must also implement one of the [Zombie Dice expansions](https://en.wikipedia.org/wiki/Zombie_Dice#Expansions): *Zombie Dice 2: Double Feature* with 3 additional special dice, or *Zombie Dice 3: School Bus* with a 12-sided dice and some more intricate player decision making."
   ]
  },
  {
   "cell_type": "markdown",
   "metadata": {},
   "source": [
    "## Part Two: Implement\n",
    "\n",
    "A `Dice` class is provided for you in the cell below. You may adapt the `Dice` class definition or use it as is. Either way, you will write new `GreenDice`,`YellowDice`, and `RedDice` subclasses.\n",
    "\n",
    "Your `ZombieDiceGame` class should facilitate players taking turns and determine when a player wins. Instanciating a new game should at least require `Player` objects, _who_ will play the game. `ZombieDiceGame` must accept a variable number of players. For example...\n",
    "\n",
    "    p1 = Player(\"Camila\")\n",
    "    p2 = GreedyPlayer(\"Leo\")\n",
    "    p3 = InteractiveMode(\"Rodrigo\")\n",
    "    \n",
    "    z = ZombieDiceGame(p1, p2, p3)\n",
    "    z.play()\n",
    "\n",
    "Your `Player` class should model behaviors of following the rules to take a turn and making choices in the game, which can be random, strategic, some default, or based on input like the `InteractiveMode` will be.\n",
    "\n",
    "All of your class definitions should demonstrate:\n",
    "\n",
    "- separation of concerns, \n",
    "- proper use of naming conventions, \n",
    "- proper use of class and object attributes, \n",
    "- proper use of arguments including `self`, \n",
    "- well-named functions and variables and/or clear, concise documentation (i.e., your code should be easy to read), \n",
    "- appropriate use of loops and data structures as needed (e.g., lists, dictionaries, tuples)\n",
    "\n",
    "And when you instanciate objects and call the methods of those objects (Part 3) your code should run without errors.\n",
    "\n",
    "**Optional, fun:** Change the theme. Instead of *zombies* chasing *humans* collecting *brains*, your game can be based on any chase-and-collect scenario. Must be non-violent if game characters are based on real people."
   ]
  },
  {
   "cell_type": "code",
   "execution_count": 3,
   "metadata": {},
   "outputs": [],
   "source": [
    "# https://pypi.org/project/emoji/\n",
    "import emoji"
   ]
  },
  {
   "cell_type": "code",
   "execution_count": 11,
   "metadata": {},
   "outputs": [
    {
     "name": "stdout",
     "output_type": "stream",
     "text": [
      "Possible new 🧟‍♀️🧟‍♂️ Dice faces... 🧠, 💥, 👣\n",
      "Copying and pasting 🧟‍♀️, 🧟‍♂️, 🧠, 💥, 👣 also usually works\n"
     ]
    }
   ],
   "source": [
    "# For reference...\n",
    "print(emoji.emojize('Possible new :woman_zombie::man_zombie: Dice faces... :brain:, :collision:, :footprints:'))\n",
    "print(\"Copying and pasting 🧟‍♀️, 🧟‍♂️, 🧠, 💥, 👣 also usually works\")"
   ]
  },
  {
   "cell_type": "code",
   "execution_count": 10,
   "metadata": {},
   "outputs": [],
   "source": [
    "from random import choice, randint\n",
    "from time import sleep\n",
    "\n",
    "class Dice:\n",
    "    faces = {1: \"[ . ]\", 2: \"[ : ]\", 3: \"[: .]\", \n",
    "             4:\"[: :]\", 5:\"[:.:]\", 6:\"[:::]\"}\n",
    "    \n",
    "    def __init__(self, sides=6):\n",
    "        self.sides = sides\n",
    "        self.value = None\n",
    "        \n",
    "    def __str__(self):\n",
    "        if self.value == None:\n",
    "            return \"Ready to roll!\"\n",
    "        \n",
    "        elif self.value > 6:\n",
    "            return \"[ \"+str(self.value)+\" ]\"\n",
    "        \n",
    "        else:\n",
    "            return self.faces[self.value]\n",
    "        \n",
    "    def roll(self):\n",
    "        self.value = randint(1,self.sides)\n",
    "        print(self)"
   ]
  },
  {
   "cell_type": "code",
   "execution_count": null,
   "metadata": {},
   "outputs": [],
   "source": []
  },
  {
   "cell_type": "code",
   "execution_count": null,
   "metadata": {},
   "outputs": [],
   "source": []
  },
  {
   "cell_type": "code",
   "execution_count": null,
   "metadata": {},
   "outputs": [],
   "source": []
  },
  {
   "cell_type": "markdown",
   "metadata": {},
   "source": [
    "## Part Three: Play\n",
    "\n",
    "Create a new `ZombieDiceGame` object, and simulate or play a game. Methods from your classes should provide print statements that show what is happening at each step. You should have additional print statements showing whose turn it is, the scores after each turn, and who wins when the game is over."
   ]
  },
  {
   "cell_type": "code",
   "execution_count": null,
   "metadata": {},
   "outputs": [],
   "source": []
  },
  {
   "cell_type": "markdown",
   "metadata": {},
   "source": [
    "## Part Four: Reflect\n",
    "\n",
    "Describe the problem(s) and the solution(s) you came up with in terms of how you chose to write your code. Tell me about your process in terms of strategizing, implementing, and testing your code. What questions or difficulties came up along the way and how you did you go about addressing those? What did you learn?\n",
    "\n",
    "**For partner projects:** Begin with an overview of the division of labor. The rest of the reflection should be done individually. You may write up the division of labor, download and share the notebook, and write up the rest of your reflection on your own.\n"
   ]
  },
  {
   "cell_type": "markdown",
   "metadata": {},
   "source": [
    "Consult the rubric for additional requirements."
   ]
  }
 ],
 "metadata": {
  "kernelspec": {
   "display_name": "Python 3",
   "language": "python",
   "name": "python3"
  },
  "language_info": {
   "codemirror_mode": {
    "name": "ipython",
    "version": 3
   },
   "file_extension": ".py",
   "mimetype": "text/x-python",
   "name": "python",
   "nbconvert_exporter": "python",
   "pygments_lexer": "ipython3",
   "version": "3.7.3"
  }
 },
 "nbformat": 4,
 "nbformat_minor": 2
}
