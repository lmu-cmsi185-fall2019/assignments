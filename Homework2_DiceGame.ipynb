{
 "cells": [
  {
   "cell_type": "markdown",
   "metadata": {},
   "source": [
    "# Python Dice Game\n",
    "\n",
    "**Due Nov 11 or 12**, whichever day you have class, before class. This is an individual assignment. To submit, download your `ipynb` file and upload it to CodePost. Also be prepared to demo your game to Dr. Freitas in class during lab time on the due date.\n",
    "\n",
    "For this assignment, you will employ object-oriented programming to simulate a dice-based game.\n",
    "\n",
    "Here are the rules for a simple game called [Pig](https://en.wikipedia.org/wiki/Pig_(dice_game)), or you are welcome to implement any other dice-based game instead such as [10,000](https://en.wikipedia.org/wiki/Dice_10000) or even [Zombie Dice](https://en.wikipedia.org/wiki/Zombie_Dice)."
   ]
  },
  {
   "cell_type": "markdown",
   "metadata": {},
   "source": [
    "## Part One: Strategize\n",
    "\n",
    "Read the rules of your game carefully. On paper or a whiteboard, determine what classes and perhaps subclasses you need to create your game. What values and bahaviors belong to these classes? Think about the game step by step, what is happening and what information is needed? You should have at least a `Dice` class, a `Game` class named after your game, and a `Player` class.\n",
    "\n",
    "For guidance, check out [Think Python 18.8 Class Diagrams](http://greenteapress.com/thinkpython2/html/thinkpython2019.html). It may be strategic to spend more than half of your time on this assignment planning before moving on to write the code for these classes.\n",
    "\n",
    "## Part Two: Implement\n",
    "\n",
    "A `Dice` class is provided for you in the cell below. You may adapt the `Dice` class definition or use it as is. Write the rest of your class definitions from part one. \n",
    "\n",
    "Your `Game` class should enforce rules of the game, keep score, and facilitate players taking turns. Instanciating a new game should at least require `Player` objects, _who_ will play the game. `Game` could accept exactly 2 players, or a variable number of players. For example...\n",
    "\n",
    "    p1 = Player(\"Leo\", \"greedy\")\n",
    "    p2 = Player(\"Camila\", \"random\")\n",
    "    \n",
    "    g = Game(p1, p2)\n",
    "    g.play()\n",
    "\n",
    "Your `Player` class should model behaviors of taking a turn and making choices in the game, which can be random, strategic, some default, or based on an argument like the example above. You can choose what required or optional arguments your own `Player` class will have as long as they make sense.\n",
    "\n",
    "Your class definitions should demonstrate:\n",
    "\n",
    "- separation of concerns, \n",
    "- proper use of naming conventions, \n",
    "- proper use of class and object attributes, \n",
    "- proper use of arguments including `self`, \n",
    "- well-named functions and variables and/or clear, concise documentation (i.e., your code should be easy to read), \n",
    "- appropriate use of loops and data structures as needed (e.g., lists, dictionaries, tuples)\n",
    "\n",
    "And when you instanciate objects and call the methods of those objects (Part 3) your code should run without errors.\n",
    "\n",
    "**Optional, fun:** Write a `Player` subclass called `InteractiveMode` that determines game choices based on user input instead of a pre-defined strategy."
   ]
  },
  {
   "cell_type": "code",
   "execution_count": null,
   "metadata": {},
   "outputs": [],
   "source": [
    "from random import randint\n",
    "\n",
    "class Dice:\n",
    "    faces = {1: \"[ . ]\", 2: \"[ : ]\", 3: \"[: .]\", \n",
    "             4:\"[: :]\", 5:\"[:.:]\", 6:\"[:::]\"}\n",
    "    \n",
    "    def __init__(self, sides=6):\n",
    "        self.sides = sides\n",
    "        self.value = None\n",
    "        \n",
    "    def __str__(self):\n",
    "        if self.value == None:\n",
    "            return \"Ready to roll!\"\n",
    "        \n",
    "        elif self.value > 6:\n",
    "            return \"[ \"+str(self.value)+\" ]\"\n",
    "        \n",
    "        else:\n",
    "            return self.faces[self.value]\n",
    "        \n",
    "    def roll(self):\n",
    "        self.value = randint(1,self.sides)\n",
    "        print(self)"
   ]
  },
  {
   "cell_type": "code",
   "execution_count": null,
   "metadata": {},
   "outputs": [],
   "source": [
    "d = Dice()\n",
    "d.roll()"
   ]
  },
  {
   "cell_type": "code",
   "execution_count": null,
   "metadata": {},
   "outputs": [],
   "source": []
  },
  {
   "cell_type": "markdown",
   "metadata": {},
   "source": [
    "## Part Three: Play\n",
    "\n",
    "Create a new game object, and simulate or play a game. Methods from one of your classes should provide output that shows what is happening at each step. This is partially satisfied by the `roll` function for `Dice`. You should have additional output for showing whose turn it is, the scores after each turn, and who wins when the game is over."
   ]
  },
  {
   "cell_type": "code",
   "execution_count": null,
   "metadata": {},
   "outputs": [],
   "source": []
  }
 ],
 "metadata": {
  "kernelspec": {
   "display_name": "Python 3",
   "language": "python",
   "name": "python3"
  },
  "language_info": {
   "codemirror_mode": {
    "name": "ipython",
    "version": 3
   },
   "file_extension": ".py",
   "mimetype": "text/x-python",
   "name": "python",
   "nbconvert_exporter": "python",
   "pygments_lexer": "ipython3",
   "version": "3.7.3"
  }
 },
 "nbformat": 4,
 "nbformat_minor": 2
}
